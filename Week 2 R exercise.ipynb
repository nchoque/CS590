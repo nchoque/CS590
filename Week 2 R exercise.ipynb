{
 "cells": [
  {
   "cell_type": "code",
   "execution_count": 1,
   "metadata": {},
   "outputs": [
    {
     "data": {
      "text/html": [
       "32"
      ],
      "text/latex": [
       "32"
      ],
      "text/markdown": [
       "32"
      ],
      "text/plain": [
       "[1] 32"
      ]
     },
     "metadata": {},
     "output_type": "display_data"
    }
   ],
   "source": [
    "#power of 2 to the 5\n",
    "2**5\n"
   ]
  },
  {
   "cell_type": "code",
   "execution_count": 9,
   "metadata": {},
   "outputs": [
    {
     "data": {
      "text/html": [
       "<ol class=list-inline>\n",
       "\t<li>89.4</li>\n",
       "\t<li>78.2</li>\n",
       "\t<li>91.4</li>\n",
       "\t<li>95.2</li>\n",
       "\t<li>105.5</li>\n",
       "</ol>\n"
      ],
      "text/latex": [
       "\\begin{enumerate*}\n",
       "\\item 89.4\n",
       "\\item 78.2\n",
       "\\item 91.4\n",
       "\\item 95.2\n",
       "\\item 105.5\n",
       "\\end{enumerate*}\n"
      ],
      "text/markdown": [
       "1. 89.4\n",
       "2. 78.2\n",
       "3. 91.4\n",
       "4. 95.2\n",
       "5. 105.5\n",
       "\n",
       "\n"
      ],
      "text/plain": [
       "[1]  89.4  78.2  91.4  95.2 105.5"
      ]
     },
     "metadata": {},
     "output_type": "display_data"
    }
   ],
   "source": [
    "peanut.weight<-c(89.4, 78.2, 91.4, 95.2, 105.5)\n",
    "peanut.weight"
   ]
  },
  {
   "cell_type": "code",
   "execution_count": 10,
   "metadata": {},
   "outputs": [
    {
     "data": {
      "text/html": [
       "<dl class=dl-horizontal>\n",
       "\t<dt>Sullivan</dt>\n",
       "\t\t<dd>89.4</dd>\n",
       "\t<dt>Bailey</dt>\n",
       "\t\t<dd>78.2</dd>\n",
       "\t<dt>Bailey II</dt>\n",
       "\t\t<dd>91.4</dd>\n",
       "\t<dt>Emery</dt>\n",
       "\t\t<dd>95.2</dd>\n",
       "\t<dt>Wynne</dt>\n",
       "\t\t<dd>105.5</dd>\n",
       "</dl>\n"
      ],
      "text/latex": [
       "\\begin{description*}\n",
       "\\item[Sullivan] 89.4\n",
       "\\item[Bailey] 78.2\n",
       "\\item[Bailey II] 91.4\n",
       "\\item[Emery] 95.2\n",
       "\\item[Wynne] 105.5\n",
       "\\end{description*}\n"
      ],
      "text/markdown": [
       "Sullivan\n",
       ":   89.4Bailey\n",
       ":   78.2Bailey II\n",
       ":   91.4Emery\n",
       ":   95.2Wynne\n",
       ":   105.5\n",
       "\n"
      ],
      "text/plain": [
       " Sullivan    Bailey Bailey II     Emery     Wynne \n",
       "     89.4      78.2      91.4      95.2     105.5 "
      ]
     },
     "metadata": {},
     "output_type": "display_data"
    }
   ],
   "source": [
    "peanut.names <- c('Sullivan', 'Bailey', 'Bailey II', 'Emery', 'Wynne')\n",
    "names(peanut.weight)<-peanut.names\n",
    "peanut.weight"
   ]
  },
  {
   "cell_type": "code",
   "execution_count": 11,
   "metadata": {},
   "outputs": [
    {
     "data": {
      "text/html": [
       "91.94"
      ],
      "text/latex": [
       "91.94"
      ],
      "text/markdown": [
       "91.94"
      ],
      "text/plain": [
       "[1] 91.94"
      ]
     },
     "metadata": {},
     "output_type": "display_data"
    }
   ],
   "source": [
    "mean(peanut.weight)"
   ]
  },
  {
   "cell_type": "code",
   "execution_count": 15,
   "metadata": {},
   "outputs": [
    {
     "data": {
      "text/html": [
       "<dl class=dl-horizontal>\n",
       "\t<dt>Bailey II</dt>\n",
       "\t\t<dd>91.4</dd>\n",
       "\t<dt>Emery</dt>\n",
       "\t\t<dd>95.2</dd>\n",
       "\t<dt>Wynne</dt>\n",
       "\t\t<dd>105.5</dd>\n",
       "</dl>\n"
      ],
      "text/latex": [
       "\\begin{description*}\n",
       "\\item[Bailey II] 91.4\n",
       "\\item[Emery] 95.2\n",
       "\\item[Wynne] 105.5\n",
       "\\end{description*}\n"
      ],
      "text/markdown": [
       "Bailey II\n",
       ":   91.4Emery\n",
       ":   95.2Wynne\n",
       ":   105.5\n",
       "\n"
      ],
      "text/plain": [
       "Bailey II     Emery     Wynne \n",
       "     91.4      95.2     105.5 "
      ]
     },
     "metadata": {},
     "output_type": "display_data"
    }
   ],
   "source": [
    "over.90<-peanut.weight[peanut.weight>90]\n",
    "over.90"
   ]
  },
  {
   "cell_type": "code",
   "execution_count": 20,
   "metadata": {},
   "outputs": [
    {
     "data": {
      "text/html": [
       "<strong>Bailey II:</strong> 91.4"
      ],
      "text/latex": [
       "\\textbf{Bailey II:} 91.4"
      ],
      "text/markdown": [
       "**Bailey II:** 91.4"
      ],
      "text/plain": [
       "Bailey II \n",
       "     91.4 "
      ]
     },
     "metadata": {},
     "output_type": "display_data"
    }
   ],
   "source": [
    "over.90[over.90==min(over.90)]"
   ]
  },
  {
   "cell_type": "code",
   "execution_count": 21,
   "metadata": {},
   "outputs": [
    {
     "data": {
      "text/html": [
       "'The cultivar Bailey has a seed wight of 91.4 grams per 100 seeds'"
      ],
      "text/latex": [
       "'The cultivar Bailey has a seed wight of 91.4 grams per 100 seeds'"
      ],
      "text/markdown": [
       "'The cultivar Bailey has a seed wight of 91.4 grams per 100 seeds'"
      ],
      "text/plain": [
       "[1] \"The cultivar Bailey has a seed wight of 91.4 grams per 100 seeds\""
      ]
     },
     "metadata": {},
     "output_type": "display_data"
    }
   ],
   "source": [
    "\n",
    "Cultivar='Bailey'\n",
    "Weight=\"91.4 grams per 100 seeds\"\n",
    "\n",
    "sprintf(\"The cultivar %s has a seed wight of %s\", Cultivar, Weight)\n"
   ]
  },
  {
   "cell_type": "code",
   "execution_count": null,
   "metadata": {},
   "outputs": [],
   "source": []
  }
 ],
 "metadata": {
  "kernelspec": {
   "display_name": "R",
   "language": "R",
   "name": "ir"
  },
  "language_info": {
   "codemirror_mode": "r",
   "file_extension": ".r",
   "mimetype": "text/x-r-source",
   "name": "R",
   "pygments_lexer": "r",
   "version": "3.6.1"
  }
 },
 "nbformat": 4,
 "nbformat_minor": 2
}
