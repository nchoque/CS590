{
 "cells": [
  {
   "cell_type": "code",
   "execution_count": 115,
   "metadata": {},
   "outputs": [],
   "source": [
    "peanut.lines<-read.csv(file=\"peanut_lines.csv\", header=TRUE, sep=\",\")"
   ]
  },
  {
   "cell_type": "code",
   "execution_count": 89,
   "metadata": {},
   "outputs": [
    {
     "data": {
      "text/html": [
       "<table>\n",
       "<thead><tr><th scope=col>NC_Accession</th><th scope=col>Parentage</th><th scope=col>Pedigree</th><th scope=col>FAG</th></tr></thead>\n",
       "<tbody>\n",
       "\t<tr><td>ACI WT09-0761                                                            </td><td>ACI WT09-0761                                                            </td><td>                                                                         </td><td>Check                                                                    </td></tr>\n",
       "\t<tr><td>ACI WT11-0351                                                            </td><td>ACI WT11-0351                                                            </td><td>                                                                         </td><td>ol ol                                                                    </td></tr>\n",
       "\t<tr><td>ACI WT12-0226                                                            </td><td>ACI WT12-0226                                                            </td><td>                                                                         </td><td>ol ol                                                                    </td></tr>\n",
       "\t<tr><td>ACI WT12-0419                                                            </td><td>ACI WT12-0419                                                            </td><td>                                                                         </td><td>Check                                                                    </td></tr>\n",
       "\t<tr><td>ACI WT12-0420                                                            </td><td>ACI WT12-0420                                                            </td><td>                                                                         </td><td>ol ol                                                                    </td></tr>\n",
       "\t<tr><td>ACI WT12-0433                                                            </td><td>ACI WT12-0433                                                            </td><td>                                                                         </td><td>Check                                                                    </td></tr>\n",
       "\t<tr><td>Bailey                                                                   </td><td>NC 12C*2 / N96076L                                                       </td><td>BC1F1-06-01-S-03-S-05: F09                                               </td><td>+ +                                                                      </td></tr>\n",
       "\t<tr><td>Bailey II                                                                </td><td>Bailey /4/ X07016, Bailey // X05027, Bailey / N02060ol, X05249 /3/ Bailey</td><td>BC3F1-02-01-S-02-S-02: F09                                               </td><td>ol ol                                                                    </td></tr>\n",
       "\t<tr><td>Brantley                                                                 </td><td>Brantley                                                                 </td><td>                                                                         </td><td>ol ol                                                                    </td></tr>\n",
       "\t<tr><td>CHAMPS                                                                   </td><td>CHAMPS                                                                   </td><td>                                                                         </td><td>+ +                                                                      </td></tr>\n",
       "\t<tr><td>Emery                                                                    </td><td>N03079FT*2 / Brantley                                                    </td><td>BC1F1-03-01-01-02-02-01: F08                                             </td><td>ol ol                                                                    </td></tr>\n",
       "\t<tr><td>Florida Fancy                                                            </td><td>Florida Fancy                                                            </td><td>                                                                         </td><td>ol ol                                                                    </td></tr>\n",
       "\t<tr><td>Florida-07                                                               </td><td>Florida-07                                                               </td><td>                                                                         </td><td>ol ol                                                                    </td></tr>\n",
       "\t<tr><td>FloriGiant                                                               </td><td>FloriGiant                                                               </td><td>                                                                         </td><td>+ +                                                                      </td></tr>\n",
       "\t<tr><td>FloRun 107                                                               </td><td>FloRun 107                                                               </td><td>                                                                         </td><td>ol ol                                                                    </td></tr>\n",
       "\t<tr><td>FloRun 157                                                               </td><td>FloRun 157                                                               </td><td>                                                                         </td><td>ol ol                                                                    </td></tr>\n",
       "\t<tr><td>FloRun 331                                                               </td><td>FloRun 331                                                               </td><td>                                                                         </td><td>ol ol                                                                    </td></tr>\n",
       "\t<tr><td>Georgia Green                                                            </td><td>Georgia Green                                                            </td><td>                                                                         </td><td>+ +                                                                      </td></tr>\n",
       "\t<tr><td>Georgia-06G                                                              </td><td>Georgia-06G                                                              </td><td>                                                                         </td><td>+ +                                                                      </td></tr>\n",
       "\t<tr><td>Georgia-07W                                                              </td><td>Georgia-07W                                                              </td><td>                                                                         </td><td>+ +                                                                      </td></tr>\n",
       "\t<tr><td>Georgia-09B                                                              </td><td>Georgia-09B                                                              </td><td>                                                                         </td><td>ol ol                                                                    </td></tr>\n",
       "\t<tr><td>Georgia-11J                                                              </td><td>Georgia-11J                                                              </td><td>                                                                         </td><td>ol ol                                                                    </td></tr>\n",
       "\t<tr><td>Georgia-12Y                                                              </td><td>Georgia-12Y                                                              </td><td>                                                                         </td><td>+ +                                                                      </td></tr>\n",
       "\t<tr><td>Gregory                                                                  </td><td>Gregory                                                                  </td><td>                                                                         </td><td>+ +                                                                      </td></tr>\n",
       "\t<tr><td>Harris 1                                                                 </td><td>Harris 1                                                                 </td><td>                                                                         </td><td>Check                                                                    </td></tr>\n",
       "</tbody>\n",
       "</table>\n"
      ],
      "text/latex": [
       "\\begin{tabular}{r|llll}\n",
       " NC\\_Accession & Parentage & Pedigree & FAG\\\\\n",
       "\\hline\n",
       "\t ACI WT09-0761                                                             & ACI WT09-0761                                                             &                                                                           & Check                                                                    \\\\\n",
       "\t ACI WT11-0351                                                             & ACI WT11-0351                                                             &                                                                           & ol ol                                                                    \\\\\n",
       "\t ACI WT12-0226                                                             & ACI WT12-0226                                                             &                                                                           & ol ol                                                                    \\\\\n",
       "\t ACI WT12-0419                                                             & ACI WT12-0419                                                             &                                                                           & Check                                                                    \\\\\n",
       "\t ACI WT12-0420                                                             & ACI WT12-0420                                                             &                                                                           & ol ol                                                                    \\\\\n",
       "\t ACI WT12-0433                                                             & ACI WT12-0433                                                             &                                                                           & Check                                                                    \\\\\n",
       "\t Bailey                                                                    & NC 12C*2 / N96076L                                                        & BC1F1-06-01-S-03-S-05: F09                                                & + +                                                                      \\\\\n",
       "\t Bailey II                                                                 & Bailey /4/ X07016, Bailey // X05027, Bailey / N02060ol, X05249 /3/ Bailey & BC3F1-02-01-S-02-S-02: F09                                                & ol ol                                                                    \\\\\n",
       "\t Brantley                                                                  & Brantley                                                                  &                                                                           & ol ol                                                                    \\\\\n",
       "\t CHAMPS                                                                    & CHAMPS                                                                    &                                                                           & + +                                                                      \\\\\n",
       "\t Emery                                                                     & N03079FT*2 / Brantley                                                     & BC1F1-03-01-01-02-02-01: F08                                              & ol ol                                                                    \\\\\n",
       "\t Florida Fancy                                                             & Florida Fancy                                                             &                                                                           & ol ol                                                                    \\\\\n",
       "\t Florida-07                                                                & Florida-07                                                                &                                                                           & ol ol                                                                    \\\\\n",
       "\t FloriGiant                                                                & FloriGiant                                                                &                                                                           & + +                                                                      \\\\\n",
       "\t FloRun 107                                                                & FloRun 107                                                                &                                                                           & ol ol                                                                    \\\\\n",
       "\t FloRun 157                                                                & FloRun 157                                                                &                                                                           & ol ol                                                                    \\\\\n",
       "\t FloRun 331                                                                & FloRun 331                                                                &                                                                           & ol ol                                                                    \\\\\n",
       "\t Georgia Green                                                             & Georgia Green                                                             &                                                                           & + +                                                                      \\\\\n",
       "\t Georgia-06G                                                               & Georgia-06G                                                               &                                                                           & + +                                                                      \\\\\n",
       "\t Georgia-07W                                                               & Georgia-07W                                                               &                                                                           & + +                                                                      \\\\\n",
       "\t Georgia-09B                                                               & Georgia-09B                                                               &                                                                           & ol ol                                                                    \\\\\n",
       "\t Georgia-11J                                                               & Georgia-11J                                                               &                                                                           & ol ol                                                                    \\\\\n",
       "\t Georgia-12Y                                                               & Georgia-12Y                                                               &                                                                           & + +                                                                      \\\\\n",
       "\t Gregory                                                                   & Gregory                                                                   &                                                                           & + +                                                                      \\\\\n",
       "\t Harris 1                                                                  & Harris 1                                                                  &                                                                           & Check                                                                    \\\\\n",
       "\\end{tabular}\n"
      ],
      "text/markdown": [
       "\n",
       "| NC_Accession | Parentage | Pedigree | FAG |\n",
       "|---|---|---|---|\n",
       "| ACI WT09-0761                                                             | ACI WT09-0761                                                             |                                                                           | Check                                                                     |\n",
       "| ACI WT11-0351                                                             | ACI WT11-0351                                                             |                                                                           | ol ol                                                                     |\n",
       "| ACI WT12-0226                                                             | ACI WT12-0226                                                             |                                                                           | ol ol                                                                     |\n",
       "| ACI WT12-0419                                                             | ACI WT12-0419                                                             |                                                                           | Check                                                                     |\n",
       "| ACI WT12-0420                                                             | ACI WT12-0420                                                             |                                                                           | ol ol                                                                     |\n",
       "| ACI WT12-0433                                                             | ACI WT12-0433                                                             |                                                                           | Check                                                                     |\n",
       "| Bailey                                                                    | NC 12C*2 / N96076L                                                        | BC1F1-06-01-S-03-S-05: F09                                                | + +                                                                       |\n",
       "| Bailey II                                                                 | Bailey /4/ X07016, Bailey // X05027, Bailey / N02060ol, X05249 /3/ Bailey | BC3F1-02-01-S-02-S-02: F09                                                | ol ol                                                                     |\n",
       "| Brantley                                                                  | Brantley                                                                  |                                                                           | ol ol                                                                     |\n",
       "| CHAMPS                                                                    | CHAMPS                                                                    |                                                                           | + +                                                                       |\n",
       "| Emery                                                                     | N03079FT*2 / Brantley                                                     | BC1F1-03-01-01-02-02-01: F08                                              | ol ol                                                                     |\n",
       "| Florida Fancy                                                             | Florida Fancy                                                             |                                                                           | ol ol                                                                     |\n",
       "| Florida-07                                                                | Florida-07                                                                |                                                                           | ol ol                                                                     |\n",
       "| FloriGiant                                                                | FloriGiant                                                                |                                                                           | + +                                                                       |\n",
       "| FloRun 107                                                                | FloRun 107                                                                |                                                                           | ol ol                                                                     |\n",
       "| FloRun 157                                                                | FloRun 157                                                                |                                                                           | ol ol                                                                     |\n",
       "| FloRun 331                                                                | FloRun 331                                                                |                                                                           | ol ol                                                                     |\n",
       "| Georgia Green                                                             | Georgia Green                                                             |                                                                           | + +                                                                       |\n",
       "| Georgia-06G                                                               | Georgia-06G                                                               |                                                                           | + +                                                                       |\n",
       "| Georgia-07W                                                               | Georgia-07W                                                               |                                                                           | + +                                                                       |\n",
       "| Georgia-09B                                                               | Georgia-09B                                                               |                                                                           | ol ol                                                                     |\n",
       "| Georgia-11J                                                               | Georgia-11J                                                               |                                                                           | ol ol                                                                     |\n",
       "| Georgia-12Y                                                               | Georgia-12Y                                                               |                                                                           | + +                                                                       |\n",
       "| Gregory                                                                   | Gregory                                                                   |                                                                           | + +                                                                       |\n",
       "| Harris 1                                                                  | Harris 1                                                                  |                                                                           | Check                                                                     |\n",
       "\n"
      ],
      "text/plain": [
       "   NC_Accession \n",
       "1  ACI WT09-0761\n",
       "2  ACI WT11-0351\n",
       "3  ACI WT12-0226\n",
       "4  ACI WT12-0419\n",
       "5  ACI WT12-0420\n",
       "6  ACI WT12-0433\n",
       "7  Bailey       \n",
       "8  Bailey II    \n",
       "9  Brantley     \n",
       "10 CHAMPS       \n",
       "11 Emery        \n",
       "12 Florida Fancy\n",
       "13 Florida-07   \n",
       "14 FloriGiant   \n",
       "15 FloRun 107   \n",
       "16 FloRun 157   \n",
       "17 FloRun 331   \n",
       "18 Georgia Green\n",
       "19 Georgia-06G  \n",
       "20 Georgia-07W  \n",
       "21 Georgia-09B  \n",
       "22 Georgia-11J  \n",
       "23 Georgia-12Y  \n",
       "24 Gregory      \n",
       "25 Harris 1     \n",
       "   Parentage                                                                \n",
       "1  ACI WT09-0761                                                            \n",
       "2  ACI WT11-0351                                                            \n",
       "3  ACI WT12-0226                                                            \n",
       "4  ACI WT12-0419                                                            \n",
       "5  ACI WT12-0420                                                            \n",
       "6  ACI WT12-0433                                                            \n",
       "7  NC 12C*2 / N96076L                                                       \n",
       "8  Bailey /4/ X07016, Bailey // X05027, Bailey / N02060ol, X05249 /3/ Bailey\n",
       "9  Brantley                                                                 \n",
       "10 CHAMPS                                                                   \n",
       "11 N03079FT*2 / Brantley                                                    \n",
       "12 Florida Fancy                                                            \n",
       "13 Florida-07                                                               \n",
       "14 FloriGiant                                                               \n",
       "15 FloRun 107                                                               \n",
       "16 FloRun 157                                                               \n",
       "17 FloRun 331                                                               \n",
       "18 Georgia Green                                                            \n",
       "19 Georgia-06G                                                              \n",
       "20 Georgia-07W                                                              \n",
       "21 Georgia-09B                                                              \n",
       "22 Georgia-11J                                                              \n",
       "23 Georgia-12Y                                                              \n",
       "24 Gregory                                                                  \n",
       "25 Harris 1                                                                 \n",
       "   Pedigree                     FAG  \n",
       "1                               Check\n",
       "2                               ol ol\n",
       "3                               ol ol\n",
       "4                               Check\n",
       "5                               ol ol\n",
       "6                               Check\n",
       "7  BC1F1-06-01-S-03-S-05: F09   + +  \n",
       "8  BC3F1-02-01-S-02-S-02: F09   ol ol\n",
       "9                               ol ol\n",
       "10                              + +  \n",
       "11 BC1F1-03-01-01-02-02-01: F08 ol ol\n",
       "12                              ol ol\n",
       "13                              ol ol\n",
       "14                              + +  \n",
       "15                              ol ol\n",
       "16                              ol ol\n",
       "17                              ol ol\n",
       "18                              + +  \n",
       "19                              + +  \n",
       "20                              + +  \n",
       "21                              ol ol\n",
       "22                              ol ol\n",
       "23                              + +  \n",
       "24                              + +  \n",
       "25                              Check"
      ]
     },
     "metadata": {},
     "output_type": "display_data"
    }
   ],
   "source": [
    "head(peanut.lines, n=25)"
   ]
  },
  {
   "cell_type": "code",
   "execution_count": 116,
   "metadata": {},
   "outputs": [
    {
     "data": {
      "text/html": [
       "82"
      ],
      "text/latex": [
       "82"
      ],
      "text/markdown": [
       "82"
      ],
      "text/plain": [
       "[1] 82"
      ]
     },
     "metadata": {},
     "output_type": "display_data"
    }
   ],
   "source": [
    "bailey<-data.frame(grep(\"Bailey\", peanut.lines$Parentage))\n",
    "nrow(bailey)"
   ]
  },
  {
   "cell_type": "code",
   "execution_count": 117,
   "metadata": {},
   "outputs": [
    {
     "data": {
      "text/html": [
       "<table>\n",
       "<thead><tr><th scope=col>NC_Accession</th><th scope=col>Parentage</th><th scope=col>Pedigree</th><th scope=col>FAG</th><th scope=col>Bailey_Parent</th></tr></thead>\n",
       "<tbody>\n",
       "\t<tr><td>ACI WT09-0761                                                            </td><td>ACI WT09-0761                                                            </td><td>                                                                         </td><td>Check                                                                    </td><td>No                                                                       </td></tr>\n",
       "\t<tr><td>ACI WT11-0351                                                            </td><td>ACI WT11-0351                                                            </td><td>                                                                         </td><td>ol ol                                                                    </td><td>No                                                                       </td></tr>\n",
       "\t<tr><td>ACI WT12-0226                                                            </td><td>ACI WT12-0226                                                            </td><td>                                                                         </td><td>ol ol                                                                    </td><td>No                                                                       </td></tr>\n",
       "\t<tr><td>ACI WT12-0419                                                            </td><td>ACI WT12-0419                                                            </td><td>                                                                         </td><td>Check                                                                    </td><td>No                                                                       </td></tr>\n",
       "\t<tr><td>ACI WT12-0420                                                            </td><td>ACI WT12-0420                                                            </td><td>                                                                         </td><td>ol ol                                                                    </td><td>No                                                                       </td></tr>\n",
       "\t<tr><td>ACI WT12-0433                                                            </td><td>ACI WT12-0433                                                            </td><td>                                                                         </td><td>Check                                                                    </td><td>No                                                                       </td></tr>\n",
       "\t<tr><td>Bailey                                                                   </td><td>NC 12C*2 / N96076L                                                       </td><td>BC1F1-06-01-S-03-S-05: F09                                               </td><td>+ +                                                                      </td><td>No                                                                       </td></tr>\n",
       "\t<tr><td>Bailey II                                                                </td><td>Bailey /4/ X07016, Bailey // X05027, Bailey / N02060ol, X05249 /3/ Bailey</td><td>BC3F1-02-01-S-02-S-02: F09                                               </td><td>ol ol                                                                    </td><td>Yes                                                                      </td></tr>\n",
       "\t<tr><td>Brantley                                                                 </td><td>Brantley                                                                 </td><td>                                                                         </td><td>ol ol                                                                    </td><td>No                                                                       </td></tr>\n",
       "\t<tr><td>CHAMPS                                                                   </td><td>CHAMPS                                                                   </td><td>                                                                         </td><td>+ +                                                                      </td><td>No                                                                       </td></tr>\n",
       "</tbody>\n",
       "</table>\n"
      ],
      "text/latex": [
       "\\begin{tabular}{r|lllll}\n",
       " NC\\_Accession & Parentage & Pedigree & FAG & Bailey\\_Parent\\\\\n",
       "\\hline\n",
       "\t ACI WT09-0761                                                             & ACI WT09-0761                                                             &                                                                           & Check                                                                     & No                                                                       \\\\\n",
       "\t ACI WT11-0351                                                             & ACI WT11-0351                                                             &                                                                           & ol ol                                                                     & No                                                                       \\\\\n",
       "\t ACI WT12-0226                                                             & ACI WT12-0226                                                             &                                                                           & ol ol                                                                     & No                                                                       \\\\\n",
       "\t ACI WT12-0419                                                             & ACI WT12-0419                                                             &                                                                           & Check                                                                     & No                                                                       \\\\\n",
       "\t ACI WT12-0420                                                             & ACI WT12-0420                                                             &                                                                           & ol ol                                                                     & No                                                                       \\\\\n",
       "\t ACI WT12-0433                                                             & ACI WT12-0433                                                             &                                                                           & Check                                                                     & No                                                                       \\\\\n",
       "\t Bailey                                                                    & NC 12C*2 / N96076L                                                        & BC1F1-06-01-S-03-S-05: F09                                                & + +                                                                       & No                                                                       \\\\\n",
       "\t Bailey II                                                                 & Bailey /4/ X07016, Bailey // X05027, Bailey / N02060ol, X05249 /3/ Bailey & BC3F1-02-01-S-02-S-02: F09                                                & ol ol                                                                     & Yes                                                                      \\\\\n",
       "\t Brantley                                                                  & Brantley                                                                  &                                                                           & ol ol                                                                     & No                                                                       \\\\\n",
       "\t CHAMPS                                                                    & CHAMPS                                                                    &                                                                           & + +                                                                       & No                                                                       \\\\\n",
       "\\end{tabular}\n"
      ],
      "text/markdown": [
       "\n",
       "| NC_Accession | Parentage | Pedigree | FAG | Bailey_Parent |\n",
       "|---|---|---|---|---|\n",
       "| ACI WT09-0761                                                             | ACI WT09-0761                                                             |                                                                           | Check                                                                     | No                                                                        |\n",
       "| ACI WT11-0351                                                             | ACI WT11-0351                                                             |                                                                           | ol ol                                                                     | No                                                                        |\n",
       "| ACI WT12-0226                                                             | ACI WT12-0226                                                             |                                                                           | ol ol                                                                     | No                                                                        |\n",
       "| ACI WT12-0419                                                             | ACI WT12-0419                                                             |                                                                           | Check                                                                     | No                                                                        |\n",
       "| ACI WT12-0420                                                             | ACI WT12-0420                                                             |                                                                           | ol ol                                                                     | No                                                                        |\n",
       "| ACI WT12-0433                                                             | ACI WT12-0433                                                             |                                                                           | Check                                                                     | No                                                                        |\n",
       "| Bailey                                                                    | NC 12C*2 / N96076L                                                        | BC1F1-06-01-S-03-S-05: F09                                                | + +                                                                       | No                                                                        |\n",
       "| Bailey II                                                                 | Bailey /4/ X07016, Bailey // X05027, Bailey / N02060ol, X05249 /3/ Bailey | BC3F1-02-01-S-02-S-02: F09                                                | ol ol                                                                     | Yes                                                                       |\n",
       "| Brantley                                                                  | Brantley                                                                  |                                                                           | ol ol                                                                     | No                                                                        |\n",
       "| CHAMPS                                                                    | CHAMPS                                                                    |                                                                           | + +                                                                       | No                                                                        |\n",
       "\n"
      ],
      "text/plain": [
       "   NC_Accession \n",
       "1  ACI WT09-0761\n",
       "2  ACI WT11-0351\n",
       "3  ACI WT12-0226\n",
       "4  ACI WT12-0419\n",
       "5  ACI WT12-0420\n",
       "6  ACI WT12-0433\n",
       "7  Bailey       \n",
       "8  Bailey II    \n",
       "9  Brantley     \n",
       "10 CHAMPS       \n",
       "   Parentage                                                                \n",
       "1  ACI WT09-0761                                                            \n",
       "2  ACI WT11-0351                                                            \n",
       "3  ACI WT12-0226                                                            \n",
       "4  ACI WT12-0419                                                            \n",
       "5  ACI WT12-0420                                                            \n",
       "6  ACI WT12-0433                                                            \n",
       "7  NC 12C*2 / N96076L                                                       \n",
       "8  Bailey /4/ X07016, Bailey // X05027, Bailey / N02060ol, X05249 /3/ Bailey\n",
       "9  Brantley                                                                 \n",
       "10 CHAMPS                                                                   \n",
       "   Pedigree                   FAG   Bailey_Parent\n",
       "1                             Check No           \n",
       "2                             ol ol No           \n",
       "3                             ol ol No           \n",
       "4                             Check No           \n",
       "5                             ol ol No           \n",
       "6                             Check No           \n",
       "7  BC1F1-06-01-S-03-S-05: F09 + +   No           \n",
       "8  BC3F1-02-01-S-02-S-02: F09 ol ol Yes          \n",
       "9                             ol ol No           \n",
       "10                            + +   No           "
      ]
     },
     "metadata": {},
     "output_type": "display_data"
    }
   ],
   "source": [
    "peanut.lines$Bailey_Parent <- ifelse(grepl('Bailey', peanut.lines$Parentage)==TRUE, 'Yes', 'No')\n",
    "head(peanut.lines, n=10)"
   ]
  },
  {
   "cell_type": "code",
   "execution_count": 130,
   "metadata": {},
   "outputs": [
    {
     "data": {
      "text/html": [
       "'16.1 %'"
      ],
      "text/latex": [
       "'16.1 \\%'"
      ],
      "text/markdown": [
       "'16.1 %'"
      ],
      "text/plain": [
       "[1] \"16.1 %\""
      ]
     },
     "metadata": {},
     "output_type": "display_data"
    }
   ],
   "source": [
    "peanut.lines$Bailey.f<-ifelse(peanut.lines$FAG== \"ol ol\", 1, 0)\n",
    "peanut.lines$check<-ifelse(peanut.lines$FAG== \"check\", 1, 0)\n",
    "\n",
    "paste(round((nrow(filter(peanut.lines, Bailey_Parent ==\"Yes\" & Bailey.f == 1 & check == 0))/ nrow(peanut.lines)*100), 1), \"%\")\n"
   ]
  },
  {
   "cell_type": "code",
   "execution_count": 107,
   "metadata": {},
   "outputs": [
    {
     "data": {
      "text/html": [
       "<table>\n",
       "<thead><tr><th scope=col>NC_Accession</th><th scope=col>Parentage</th><th scope=col>Pedigree</th><th scope=col>FAG</th><th scope=col>Bailey_Parent</th><th scope=col>Bailey.f</th></tr></thead>\n",
       "<tbody>\n",
       "\t<tr><td>ACI WT09-0761                                                                </td><td>ACI WT09-0761                                                                </td><td>                                                                             </td><td>Check                                                                        </td><td>No                                                                           </td><td>0                                                                            </td></tr>\n",
       "\t<tr><td>ACI WT11-0351                                                                </td><td>ACI WT11-0351                                                                </td><td>                                                                             </td><td>ol ol                                                                        </td><td>No                                                                           </td><td>1                                                                            </td></tr>\n",
       "\t<tr><td>ACI WT12-0226                                                                </td><td>ACI WT12-0226                                                                </td><td>                                                                             </td><td>ol ol                                                                        </td><td>No                                                                           </td><td>1                                                                            </td></tr>\n",
       "\t<tr><td>ACI WT12-0419                                                                </td><td>ACI WT12-0419                                                                </td><td>                                                                             </td><td>Check                                                                        </td><td>No                                                                           </td><td>0                                                                            </td></tr>\n",
       "\t<tr><td>ACI WT12-0420                                                                </td><td>ACI WT12-0420                                                                </td><td>                                                                             </td><td>ol ol                                                                        </td><td>No                                                                           </td><td>1                                                                            </td></tr>\n",
       "\t<tr><td>ACI WT12-0433                                                                </td><td>ACI WT12-0433                                                                </td><td>                                                                             </td><td>Check                                                                        </td><td>No                                                                           </td><td>0                                                                            </td></tr>\n",
       "\t<tr><td>Bailey                                                                       </td><td>NC 12C*2 / N96076L                                                           </td><td>BC1F1-06-01-S-03-S-05: F09                                                   </td><td>+ +                                                                          </td><td>No                                                                           </td><td>0                                                                            </td></tr>\n",
       "\t<tr><td>Bailey II                                                                    </td><td>N03081T /4/ X07016, N03081T // X05027, N03081T / N02060ol, X05249 /3/ N03081T</td><td>BC3F1-02-01-S-02-S-02: F09                                                   </td><td>ol ol                                                                        </td><td>Yes                                                                          </td><td>1                                                                            </td></tr>\n",
       "\t<tr><td>Brantley                                                                     </td><td>Brantley                                                                     </td><td>                                                                             </td><td>ol ol                                                                        </td><td>No                                                                           </td><td>1                                                                            </td></tr>\n",
       "\t<tr><td>CHAMPS                                                                       </td><td>CHAMPS                                                                       </td><td>                                                                             </td><td>+ +                                                                          </td><td>No                                                                           </td><td>0                                                                            </td></tr>\n",
       "</tbody>\n",
       "</table>\n"
      ],
      "text/latex": [
       "\\begin{tabular}{r|llllll}\n",
       " NC\\_Accession & Parentage & Pedigree & FAG & Bailey\\_Parent & Bailey.f\\\\\n",
       "\\hline\n",
       "\t ACI WT09-0761                                                                 & ACI WT09-0761                                                                 &                                                                               & Check                                                                         & No                                                                            & 0                                                                            \\\\\n",
       "\t ACI WT11-0351                                                                 & ACI WT11-0351                                                                 &                                                                               & ol ol                                                                         & No                                                                            & 1                                                                            \\\\\n",
       "\t ACI WT12-0226                                                                 & ACI WT12-0226                                                                 &                                                                               & ol ol                                                                         & No                                                                            & 1                                                                            \\\\\n",
       "\t ACI WT12-0419                                                                 & ACI WT12-0419                                                                 &                                                                               & Check                                                                         & No                                                                            & 0                                                                            \\\\\n",
       "\t ACI WT12-0420                                                                 & ACI WT12-0420                                                                 &                                                                               & ol ol                                                                         & No                                                                            & 1                                                                            \\\\\n",
       "\t ACI WT12-0433                                                                 & ACI WT12-0433                                                                 &                                                                               & Check                                                                         & No                                                                            & 0                                                                            \\\\\n",
       "\t Bailey                                                                        & NC 12C*2 / N96076L                                                            & BC1F1-06-01-S-03-S-05: F09                                                    & + +                                                                           & No                                                                            & 0                                                                            \\\\\n",
       "\t Bailey II                                                                     & N03081T /4/ X07016, N03081T // X05027, N03081T / N02060ol, X05249 /3/ N03081T & BC3F1-02-01-S-02-S-02: F09                                                    & ol ol                                                                         & Yes                                                                           & 1                                                                            \\\\\n",
       "\t Brantley                                                                      & Brantley                                                                      &                                                                               & ol ol                                                                         & No                                                                            & 1                                                                            \\\\\n",
       "\t CHAMPS                                                                        & CHAMPS                                                                        &                                                                               & + +                                                                           & No                                                                            & 0                                                                            \\\\\n",
       "\\end{tabular}\n"
      ],
      "text/markdown": [
       "\n",
       "| NC_Accession | Parentage | Pedigree | FAG | Bailey_Parent | Bailey.f |\n",
       "|---|---|---|---|---|---|\n",
       "| ACI WT09-0761                                                                 | ACI WT09-0761                                                                 |                                                                               | Check                                                                         | No                                                                            | 0                                                                             |\n",
       "| ACI WT11-0351                                                                 | ACI WT11-0351                                                                 |                                                                               | ol ol                                                                         | No                                                                            | 1                                                                             |\n",
       "| ACI WT12-0226                                                                 | ACI WT12-0226                                                                 |                                                                               | ol ol                                                                         | No                                                                            | 1                                                                             |\n",
       "| ACI WT12-0419                                                                 | ACI WT12-0419                                                                 |                                                                               | Check                                                                         | No                                                                            | 0                                                                             |\n",
       "| ACI WT12-0420                                                                 | ACI WT12-0420                                                                 |                                                                               | ol ol                                                                         | No                                                                            | 1                                                                             |\n",
       "| ACI WT12-0433                                                                 | ACI WT12-0433                                                                 |                                                                               | Check                                                                         | No                                                                            | 0                                                                             |\n",
       "| Bailey                                                                        | NC 12C*2 / N96076L                                                            | BC1F1-06-01-S-03-S-05: F09                                                    | + +                                                                           | No                                                                            | 0                                                                             |\n",
       "| Bailey II                                                                     | N03081T /4/ X07016, N03081T // X05027, N03081T / N02060ol, X05249 /3/ N03081T | BC3F1-02-01-S-02-S-02: F09                                                    | ol ol                                                                         | Yes                                                                           | 1                                                                             |\n",
       "| Brantley                                                                      | Brantley                                                                      |                                                                               | ol ol                                                                         | No                                                                            | 1                                                                             |\n",
       "| CHAMPS                                                                        | CHAMPS                                                                        |                                                                               | + +                                                                           | No                                                                            | 0                                                                             |\n",
       "\n"
      ],
      "text/plain": [
       "   NC_Accession \n",
       "1  ACI WT09-0761\n",
       "2  ACI WT11-0351\n",
       "3  ACI WT12-0226\n",
       "4  ACI WT12-0419\n",
       "5  ACI WT12-0420\n",
       "6  ACI WT12-0433\n",
       "7  Bailey       \n",
       "8  Bailey II    \n",
       "9  Brantley     \n",
       "10 CHAMPS       \n",
       "   Parentage                                                                    \n",
       "1  ACI WT09-0761                                                                \n",
       "2  ACI WT11-0351                                                                \n",
       "3  ACI WT12-0226                                                                \n",
       "4  ACI WT12-0419                                                                \n",
       "5  ACI WT12-0420                                                                \n",
       "6  ACI WT12-0433                                                                \n",
       "7  NC 12C*2 / N96076L                                                           \n",
       "8  N03081T /4/ X07016, N03081T // X05027, N03081T / N02060ol, X05249 /3/ N03081T\n",
       "9  Brantley                                                                     \n",
       "10 CHAMPS                                                                       \n",
       "   Pedigree                   FAG   Bailey_Parent Bailey.f\n",
       "1                             Check No            0       \n",
       "2                             ol ol No            1       \n",
       "3                             ol ol No            1       \n",
       "4                             Check No            0       \n",
       "5                             ol ol No            1       \n",
       "6                             Check No            0       \n",
       "7  BC1F1-06-01-S-03-S-05: F09 + +   No            0       \n",
       "8  BC3F1-02-01-S-02-S-02: F09 ol ol Yes           1       \n",
       "9                             ol ol No            1       \n",
       "10                            + +   No            0       "
      ]
     },
     "metadata": {},
     "output_type": "display_data"
    }
   ],
   "source": [
    "peanut.lines$Parentage<-gsub('Bailey', 'N03081T', peanut.lines$Parentage)\n",
    "head(peanut.lines, n=10)"
   ]
  },
  {
   "cell_type": "code",
   "execution_count": 92,
   "metadata": {},
   "outputs": [
    {
     "data": {
      "text/html": [
       "<table>\n",
       "<thead><tr><th scope=col>Year</th><th scope=col>Location</th><th scope=col>Name</th><th scope=col>Label</th><th scope=col>NC_Accession</th><th scope=col>Plot_Yield</th><th scope=col>Yield</th></tr></thead>\n",
       "<tbody>\n",
       "\t<tr><td>2014                            </td><td>LEW                             </td><td>ATP                             </td><td>Advanced Testing Program - Yield</td><td>ACI WT09-0761                   </td><td> 9.0                            </td><td>2733                            </td></tr>\n",
       "\t<tr><td>2014                            </td><td>RMT                             </td><td>ATP                             </td><td>Advanced Testing Program - Yield</td><td>ACI WT09-0761                   </td><td>10.2                            </td><td>3085                            </td></tr>\n",
       "\t<tr><td>2014                            </td><td>WHI                             </td><td>ATP                             </td><td>Advanced Testing Program - Yield</td><td>ACI WT09-0761                   </td><td>10.2                            </td><td>3085                            </td></tr>\n",
       "\t<tr><td>2015                            </td><td>LEW                             </td><td>ATP                             </td><td>Advanced Testing Program - Yield</td><td>ACI WT11-0351                   </td><td>15.3                            </td><td>4632                            </td></tr>\n",
       "\t<tr><td>2015                            </td><td>RMT                             </td><td>ATP                             </td><td>Advanced Testing Program - Yield</td><td>ACI WT11-0351                   </td><td>10.7                            </td><td>3226                            </td></tr>\n",
       "\t<tr><td>2015                            </td><td>LEW                             </td><td>ATP                             </td><td>Advanced Testing Program - Yield</td><td>ACI WT12-0226                   </td><td>13.6                            </td><td>4104                            </td></tr>\n",
       "</tbody>\n",
       "</table>\n"
      ],
      "text/latex": [
       "\\begin{tabular}{r|lllllll}\n",
       " Year & Location & Name & Label & NC\\_Accession & Plot\\_Yield & Yield\\\\\n",
       "\\hline\n",
       "\t 2014                             & LEW                              & ATP                              & Advanced Testing Program - Yield & ACI WT09-0761                    &  9.0                             & 2733                            \\\\\n",
       "\t 2014                             & RMT                              & ATP                              & Advanced Testing Program - Yield & ACI WT09-0761                    & 10.2                             & 3085                            \\\\\n",
       "\t 2014                             & WHI                              & ATP                              & Advanced Testing Program - Yield & ACI WT09-0761                    & 10.2                             & 3085                            \\\\\n",
       "\t 2015                             & LEW                              & ATP                              & Advanced Testing Program - Yield & ACI WT11-0351                    & 15.3                             & 4632                            \\\\\n",
       "\t 2015                             & RMT                              & ATP                              & Advanced Testing Program - Yield & ACI WT11-0351                    & 10.7                             & 3226                            \\\\\n",
       "\t 2015                             & LEW                              & ATP                              & Advanced Testing Program - Yield & ACI WT12-0226                    & 13.6                             & 4104                            \\\\\n",
       "\\end{tabular}\n"
      ],
      "text/markdown": [
       "\n",
       "| Year | Location | Name | Label | NC_Accession | Plot_Yield | Yield |\n",
       "|---|---|---|---|---|---|---|\n",
       "| 2014                             | LEW                              | ATP                              | Advanced Testing Program - Yield | ACI WT09-0761                    |  9.0                             | 2733                             |\n",
       "| 2014                             | RMT                              | ATP                              | Advanced Testing Program - Yield | ACI WT09-0761                    | 10.2                             | 3085                             |\n",
       "| 2014                             | WHI                              | ATP                              | Advanced Testing Program - Yield | ACI WT09-0761                    | 10.2                             | 3085                             |\n",
       "| 2015                             | LEW                              | ATP                              | Advanced Testing Program - Yield | ACI WT11-0351                    | 15.3                             | 4632                             |\n",
       "| 2015                             | RMT                              | ATP                              | Advanced Testing Program - Yield | ACI WT11-0351                    | 10.7                             | 3226                             |\n",
       "| 2015                             | LEW                              | ATP                              | Advanced Testing Program - Yield | ACI WT12-0226                    | 13.6                             | 4104                             |\n",
       "\n"
      ],
      "text/plain": [
       "  Year Location Name Label                            NC_Accession  Plot_Yield\n",
       "1 2014 LEW      ATP  Advanced Testing Program - Yield ACI WT09-0761  9.0      \n",
       "2 2014 RMT      ATP  Advanced Testing Program - Yield ACI WT09-0761 10.2      \n",
       "3 2014 WHI      ATP  Advanced Testing Program - Yield ACI WT09-0761 10.2      \n",
       "4 2015 LEW      ATP  Advanced Testing Program - Yield ACI WT11-0351 15.3      \n",
       "5 2015 RMT      ATP  Advanced Testing Program - Yield ACI WT11-0351 10.7      \n",
       "6 2015 LEW      ATP  Advanced Testing Program - Yield ACI WT12-0226 13.6      \n",
       "  Yield\n",
       "1 2733 \n",
       "2 3085 \n",
       "3 3085 \n",
       "4 4632 \n",
       "5 3226 \n",
       "6 4104 "
      ]
     },
     "metadata": {},
     "output_type": "display_data"
    }
   ],
   "source": [
    "yields<-read.table(\"C:/Users/nchoque/Desktop/R notes/peanut_yield.txt\", header=TRUE, sep=\"\\t\")\n",
    "head(yields)"
   ]
  },
  {
   "cell_type": "code",
   "execution_count": 93,
   "metadata": {},
   "outputs": [
    {
     "name": "stderr",
     "output_type": "stream",
     "text": [
      "Joining, by = \"NC_Accession\"\n",
      "Warning message:\n",
      "\"Column `NC_Accession` joining factors with different levels, coercing to character vector\""
     ]
    },
    {
     "data": {
      "text/html": [
       "<table>\n",
       "<thead><tr><th scope=col>NC_Accession</th><th scope=col>Parentage</th><th scope=col>Pedigree</th><th scope=col>FAG</th><th scope=col>Bailey_Parent</th><th scope=col>Year</th><th scope=col>Location</th><th scope=col>Name</th><th scope=col>Label</th><th scope=col>Plot_Yield</th><th scope=col>Yield</th></tr></thead>\n",
       "<tbody>\n",
       "\t<tr><td>ACI WT09-0761                   </td><td>ACI WT09-0761                   </td><td>                                </td><td>Check                           </td><td>No                              </td><td>2014                            </td><td>LEW                             </td><td>ATP                             </td><td>Advanced Testing Program - Yield</td><td> 9.0                            </td><td>2733                            </td></tr>\n",
       "\t<tr><td>ACI WT09-0761                   </td><td>ACI WT09-0761                   </td><td>                                </td><td>Check                           </td><td>No                              </td><td>2014                            </td><td>RMT                             </td><td>ATP                             </td><td>Advanced Testing Program - Yield</td><td>10.2                            </td><td>3085                            </td></tr>\n",
       "\t<tr><td>ACI WT09-0761                   </td><td>ACI WT09-0761                   </td><td>                                </td><td>Check                           </td><td>No                              </td><td>2014                            </td><td>WHI                             </td><td>ATP                             </td><td>Advanced Testing Program - Yield</td><td>10.2                            </td><td>3085                            </td></tr>\n",
       "\t<tr><td>ACI WT11-0351                   </td><td>ACI WT11-0351                   </td><td>                                </td><td>ol ol                           </td><td>No                              </td><td>2015                            </td><td>LEW                             </td><td>ATP                             </td><td>Advanced Testing Program - Yield</td><td>15.3                            </td><td>4632                            </td></tr>\n",
       "\t<tr><td>ACI WT11-0351                   </td><td>ACI WT11-0351                   </td><td>                                </td><td>ol ol                           </td><td>No                              </td><td>2015                            </td><td>RMT                             </td><td>ATP                             </td><td>Advanced Testing Program - Yield</td><td>10.7                            </td><td>3226                            </td></tr>\n",
       "\t<tr><td>ACI WT12-0226                   </td><td>ACI WT12-0226                   </td><td>                                </td><td>ol ol                           </td><td>No                              </td><td>2015                            </td><td>LEW                             </td><td>ATP                             </td><td>Advanced Testing Program - Yield</td><td>13.6                            </td><td>4104                            </td></tr>\n",
       "</tbody>\n",
       "</table>\n"
      ],
      "text/latex": [
       "\\begin{tabular}{r|lllllllllll}\n",
       " NC\\_Accession & Parentage & Pedigree & FAG & Bailey\\_Parent & Year & Location & Name & Label & Plot\\_Yield & Yield\\\\\n",
       "\\hline\n",
       "\t ACI WT09-0761                    & ACI WT09-0761                    &                                  & Check                            & No                               & 2014                             & LEW                              & ATP                              & Advanced Testing Program - Yield &  9.0                             & 2733                            \\\\\n",
       "\t ACI WT09-0761                    & ACI WT09-0761                    &                                  & Check                            & No                               & 2014                             & RMT                              & ATP                              & Advanced Testing Program - Yield & 10.2                             & 3085                            \\\\\n",
       "\t ACI WT09-0761                    & ACI WT09-0761                    &                                  & Check                            & No                               & 2014                             & WHI                              & ATP                              & Advanced Testing Program - Yield & 10.2                             & 3085                            \\\\\n",
       "\t ACI WT11-0351                    & ACI WT11-0351                    &                                  & ol ol                            & No                               & 2015                             & LEW                              & ATP                              & Advanced Testing Program - Yield & 15.3                             & 4632                            \\\\\n",
       "\t ACI WT11-0351                    & ACI WT11-0351                    &                                  & ol ol                            & No                               & 2015                             & RMT                              & ATP                              & Advanced Testing Program - Yield & 10.7                             & 3226                            \\\\\n",
       "\t ACI WT12-0226                    & ACI WT12-0226                    &                                  & ol ol                            & No                               & 2015                             & LEW                              & ATP                              & Advanced Testing Program - Yield & 13.6                             & 4104                            \\\\\n",
       "\\end{tabular}\n"
      ],
      "text/markdown": [
       "\n",
       "| NC_Accession | Parentage | Pedigree | FAG | Bailey_Parent | Year | Location | Name | Label | Plot_Yield | Yield |\n",
       "|---|---|---|---|---|---|---|---|---|---|---|\n",
       "| ACI WT09-0761                    | ACI WT09-0761                    |                                  | Check                            | No                               | 2014                             | LEW                              | ATP                              | Advanced Testing Program - Yield |  9.0                             | 2733                             |\n",
       "| ACI WT09-0761                    | ACI WT09-0761                    |                                  | Check                            | No                               | 2014                             | RMT                              | ATP                              | Advanced Testing Program - Yield | 10.2                             | 3085                             |\n",
       "| ACI WT09-0761                    | ACI WT09-0761                    |                                  | Check                            | No                               | 2014                             | WHI                              | ATP                              | Advanced Testing Program - Yield | 10.2                             | 3085                             |\n",
       "| ACI WT11-0351                    | ACI WT11-0351                    |                                  | ol ol                            | No                               | 2015                             | LEW                              | ATP                              | Advanced Testing Program - Yield | 15.3                             | 4632                             |\n",
       "| ACI WT11-0351                    | ACI WT11-0351                    |                                  | ol ol                            | No                               | 2015                             | RMT                              | ATP                              | Advanced Testing Program - Yield | 10.7                             | 3226                             |\n",
       "| ACI WT12-0226                    | ACI WT12-0226                    |                                  | ol ol                            | No                               | 2015                             | LEW                              | ATP                              | Advanced Testing Program - Yield | 13.6                             | 4104                             |\n",
       "\n"
      ],
      "text/plain": [
       "  NC_Accession  Parentage     Pedigree FAG   Bailey_Parent Year Location Name\n",
       "1 ACI WT09-0761 ACI WT09-0761          Check No            2014 LEW      ATP \n",
       "2 ACI WT09-0761 ACI WT09-0761          Check No            2014 RMT      ATP \n",
       "3 ACI WT09-0761 ACI WT09-0761          Check No            2014 WHI      ATP \n",
       "4 ACI WT11-0351 ACI WT11-0351          ol ol No            2015 LEW      ATP \n",
       "5 ACI WT11-0351 ACI WT11-0351          ol ol No            2015 RMT      ATP \n",
       "6 ACI WT12-0226 ACI WT12-0226          ol ol No            2015 LEW      ATP \n",
       "  Label                            Plot_Yield Yield\n",
       "1 Advanced Testing Program - Yield  9.0       2733 \n",
       "2 Advanced Testing Program - Yield 10.2       3085 \n",
       "3 Advanced Testing Program - Yield 10.2       3085 \n",
       "4 Advanced Testing Program - Yield 15.3       4632 \n",
       "5 Advanced Testing Program - Yield 10.7       3226 \n",
       "6 Advanced Testing Program - Yield 13.6       4104 "
      ]
     },
     "metadata": {},
     "output_type": "display_data"
    }
   ],
   "source": [
    "library(\"tidyverse\")\n",
    "peanut_db<-right_join(peanut.lines, yields, all.y=TRUE)\n",
    "head(peanut_db)"
   ]
  },
  {
   "cell_type": "code",
   "execution_count": 98,
   "metadata": {},
   "outputs": [
    {
     "data": {
      "text/html": [
       "3713.96401515152"
      ],
      "text/latex": [
       "3713.96401515152"
      ],
      "text/markdown": [
       "3713.96401515152"
      ],
      "text/plain": [
       "[1] 3713.964"
      ]
     },
     "metadata": {},
     "output_type": "display_data"
    },
    {
     "data": {
      "text/html": [
       "3495.28564727955"
      ],
      "text/latex": [
       "3495.28564727955"
      ],
      "text/markdown": [
       "3495.28564727955"
      ],
      "text/plain": [
       "[1] 3495.286"
      ]
     },
     "metadata": {},
     "output_type": "display_data"
    },
    {
     "data": {
      "text/html": [
       "<table>\n",
       "<thead><tr><th scope=col>Bailey</th><th scope=col>Other</th></tr></thead>\n",
       "<tbody>\n",
       "\t<tr><td>3713.964</td><td>3495.286</td></tr>\n",
       "</tbody>\n",
       "</table>\n"
      ],
      "text/latex": [
       "\\begin{tabular}{r|ll}\n",
       " Bailey & Other\\\\\n",
       "\\hline\n",
       "\t 3713.964 & 3495.286\\\\\n",
       "\\end{tabular}\n"
      ],
      "text/markdown": [
       "\n",
       "| Bailey | Other |\n",
       "|---|---|\n",
       "| 3713.964 | 3495.286 |\n",
       "\n"
      ],
      "text/plain": [
       "  Bailey   Other   \n",
       "1 3713.964 3495.286"
      ]
     },
     "metadata": {},
     "output_type": "display_data"
    }
   ],
   "source": [
    "Bailey<-mean(peanut_db$Yield[peanut_db$Bailey_Parent==\"Yes\"], na.rm=TRUE)\n",
    "Bailey\n",
    "Other<-mean(peanut_db$Yield[peanut_db$Bailey_Parent==\"No\"], na.rm=TRUE)\n",
    "Other\n",
    "\n",
    "d.f<-data.frame(Bailey, Other)\n",
    "d.f\n"
   ]
  },
  {
   "cell_type": "code",
   "execution_count": null,
   "metadata": {},
   "outputs": [],
   "source": []
  }
 ],
 "metadata": {
  "kernelspec": {
   "display_name": "R",
   "language": "R",
   "name": "ir"
  },
  "language_info": {
   "codemirror_mode": "r",
   "file_extension": ".r",
   "mimetype": "text/x-r-source",
   "name": "R",
   "pygments_lexer": "r",
   "version": "3.6.1"
  }
 },
 "nbformat": 4,
 "nbformat_minor": 2
}
